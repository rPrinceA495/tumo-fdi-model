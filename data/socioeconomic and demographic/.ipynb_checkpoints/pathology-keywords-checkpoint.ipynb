{
 "cells": [
  {
   "cell_type": "code",
   "execution_count": 7,
   "id": "5fa7aec6",
   "metadata": {},
   "outputs": [],
   "source": [
    "import pickle\n",
    "\n",
    "PhysicalHealthIssues = ['mdph', 'disability', 'dyspraxia', 'motor', 'dysgraphia', 'tired', 'hearing', \n",
    "                        'wheelchair', 'dysgraphic', 'aids', 'deaf', 'immune', 'necrosis', 'fatigue', \n",
    "                        'coordination', 'physically', 'diabetes', 'insulin', 'blood', 'pressure', 'asleep', 'hospitalization', \n",
    "                        'tremors', 'arthritis', 'bandages', 'anemia', 'hemolytic', 'spinal', 'chronic']\n",
    "MentalandEmotionalHealthIssues = ['depression', 'anxiety', 'dyspraxia', 'shy', 'depressed', 'addiction', 'emotions', 'psychiatric', \n",
    "                        'ocd', 'scarifies', 'crying', 'suicidal', 'games', 'psychiatry', 'dying'] \n",
    "PersonalandFamilyIssues = ['parents', 'victim', 'childhood', 'harassment', 'bullying', 'sexual', 'hotel', \n",
    "                        'brothers', 'accommodation', 'divorced', 'trial', 'ukrainian', 'harassed', 'father']  \n",
    "SocialandBehavioralIssues = ['behavior', 'behavioral', 'autism', 'autistic', 'spectrum', 'social', 'asperger', 'asd', \n",
    "                        'dyspraxia', 'shy', 'socializing', 'insolent', 'isolate', 'loss', 'dad', 'hostel', \n",
    "                        'shyness', 'reserved', 'speech', 'impediment', 'absenteeism', 'isolation']\n",
    "LearningDisordersandDisabilities = ['school', 'attention', 'adhd', 'hyperactivity', 'dropout', 'spectrum', 'concentrating', 'dyslexic', \n",
    "                        'concentration', 'dyslexia', 'learning', 'dyspraxia', 'asd', 'dysgraphia', 'dysorthography', 'dyspraxic', \n",
    "                        'reading', 'dysgraphic', 'dysorthographic', 'distracted', 'fidgety', 'dyscalculia', 'dysphasia', 'academic',\n",
    "                        'educational' , 'dropping out prevention']"
   ]
  },
  {
   "cell_type": "code",
   "execution_count": 8,
   "id": "93b9c25d",
   "metadata": {},
   "outputs": [],
   "source": [
    "# Define keywords for each category\n",
    "keywords = {\n",
    "    'PhysicalHealthIssues': PhysicalHealthIssues,  \n",
    "    'MentalandEmotionalHealthIssues': MentalandEmotionalHealthIssues,  \n",
    "    'PersonalandFamilyIssues': PersonalandFamilyIssues,  \n",
    "    'SocialandBehavioralIssues': SocialandBehavioralIssues,  \n",
    "    'LearningDisordersandDisabilities': LearningDisordersandDisabilities\n",
    "}\n",
    "\n",
    "# Save the dictionary to a file\n",
    "with open('keywords.pkl', 'wb') as f:\n",
    "    pickle.dump(keywords, f)"
   ]
  },
  {
   "cell_type": "code",
   "execution_count": null,
   "id": "7e280695",
   "metadata": {},
   "outputs": [],
   "source": []
  }
 ],
 "metadata": {
  "kernelspec": {
   "display_name": "Python 3 (ipykernel)",
   "language": "python",
   "name": "python3"
  },
  "language_info": {
   "codemirror_mode": {
    "name": "ipython",
    "version": 3
   },
   "file_extension": ".py",
   "mimetype": "text/x-python",
   "name": "python",
   "nbconvert_exporter": "python",
   "pygments_lexer": "ipython3",
   "version": "3.11.5"
  }
 },
 "nbformat": 4,
 "nbformat_minor": 5
}
