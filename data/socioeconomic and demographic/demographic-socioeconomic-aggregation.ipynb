{
 "cells": [
  {
   "cell_type": "code",
   "execution_count": 3,
   "id": "ff82d782",
   "metadata": {},
   "outputs": [
    {
     "name": "stdout",
     "output_type": "stream",
     "text": [
      "3.1.3\n"
     ]
    }
   ],
   "source": [
    "import openpyxl\n",
    "print(openpyxl.__version__)"
   ]
  },
  {
   "cell_type": "code",
   "execution_count": 7,
   "id": "3138f087",
   "metadata": {},
   "outputs": [],
   "source": [
    "# !pip install --upgrade bottleneck\n",
    "import pandas as pd\n",
    "pd.set_option('future.no_silent_downcasting', True)\n",
    "\n",
    "'''\n",
    "Outer join of dataframes on TumoID\n",
    "'''\n",
    "# List of file locations\n",
    "files = ['Demographic data.xlsx', 'Priority Districts.xlsx', 'Closed Students.xlsx']\n",
    "\n",
    "# Read the first file\n",
    "df = pd.read_excel(files[0])\n",
    "\n",
    "# Loop over the rest of the files and merge\n",
    "for file in files[1:]:\n",
    "    df_other = pd.read_excel(file)\n",
    "    df = pd.merge(df, df_other, on='TumoID', how='outer')\n",
    "\n",
    "# Replace categorical values in 'Family Income' column to 1s and 2s\n",
    "df['FamilyIncome'] = df['FamilyIncome'].replace({'inférieur à 800': 3, 'de 801 à 1300': 2, 'de 1301 à 2500': 1, 'supérieur à 2500': 0})\n",
    "df['FamilyIncome'] = df['FamilyIncome'].infer_objects(copy=False)\n",
    "\n",
    "# Fill in Missing Priority School Data\n",
    "df['PrioritySchool'] = df['PrioritySchool'].fillna('NON')\n",
    "\n",
    "# Check for missing values in the dataframe (None found)\n",
    "df.isnull().sum() \n",
    "\n",
    "# Replace categorical values in 'Priority School' columns to 0s and 1s\n",
    "df['PrioritySchool'] = df['PrioritySchool'].replace({'OUI': 1, 'NON': 0})\n",
    "df['PrioritySchool'] = df['PrioritySchool'].infer_objects(copy=False)\n",
    "\n",
    "# Replace categorical values in 'Priority District' columns to 0s and 1s\n",
    "df['PriorityDistrict'] = df['PriorityDistrict'].replace({'OUI': 1, 'NON': 0})\n",
    "df['PriorityDistrict'] = df['PriorityDistrict'].infer_objects(copy=False)\n",
    "\n",
    "df.head()\n",
    "\n",
    "# Save the merged DataFrame to a new Excel file\n",
    "df.to_excel('Sociodemographic.xlsx', index=False)?"
   ]
  },
  {
   "cell_type": "code",
   "execution_count": 11,
   "id": "933e0a12",
   "metadata": {},
   "outputs": [
    {
     "name": "stdout",
     "output_type": "stream",
     "text": [
      "Number of students from disadvantaged backgrounds: 590\n"
     ]
    }
   ],
   "source": [
    "# import matplotlib.pyplot as plt\n",
    "# import seaborn as sns\n",
    "\n",
    "# Filter the DataFrame\n",
    "filtered_df = df.loc[(df['PrioritySchool'] == 1) | (df['PriorityDistrict'] == 1) | (df['FamilyIncome'] == 3)]\n",
    "\n",
    "# Count the number of students\n",
    "num_students = filtered_df.shape[0]\n",
    "print(f\"Number of students from disadvantaged backgrounds: {num_students}\")\n",
    "\n",
    "# Visualize the data\n",
    "# sns.countplot(data=filtered_df, x='FamilyIncome')\n",
    "# plt.title('Number of Students from Disadvantaged Backgrounds')\n",
    "# plt.show()\n"
   ]
  },
  {
   "cell_type": "code",
   "execution_count": null,
   "id": "cbee0f15",
   "metadata": {},
   "outputs": [],
   "source": [
    "# Estimatng Missing Family Incomes:\n",
    "\n",
    "from sklearn.model_selection import train_test_split\n",
    "from sklearn.tree import DecisionTreeClassifier\n",
    "from sklearn.preprocessing import LabelEncoder\n",
    "\n",
    "# Prepare the features and target\n",
    "data_with_income = df.dropna(subset=['FamilyIncome'])\n",
    "data_without_income = df[df['FamilyIncome'].isnull()]\n",
    "\n",
    "features_with_income = data_with_income[['PrioritySchool', 'PriorityDistrict']]\n",
    "target_with_income = data_with_income['FamilyIncome']\n",
    "\n",
    "# Split the data into training and test sets\n",
    "features_train, features_test, target_train, target_test = train_test_split(features_with_income, target_with_income, test_size=0.2, random_state=42)\n",
    "\n",
    "# Train the decision tree\n",
    "tree = DecisionTreeClassifier()\n",
    "tree.fit(features_train, target_train)\n",
    "\n",
    "# Now you can use the trained model to predict the missing 'FamilyIncome' values\n",
    "features_without_income = data_without_income[['PrioritySchool', 'PriorityDistrict']]\n",
    "predictions = tree.predict(features_without_income)\n",
    "\n",
    "# Fill the missing 'FamilyIncome' entries with the predictions\n",
    "df.loc[data_without_income.index, 'FamilyIncome'] = predictions\n",
    "\n",
    "# Add Column for total Socioeconomic Score\n",
    "df['SocioeconomicScore'] = df['PrioritySchool'] + df['PriorityDistrict'] + df['FamilyIncome']\n",
    "\n",
    "df.head()\n",
    "\n",
    "# Save the merged DataFrame to a new Excel file\n",
    "df.to_excel('Socioeconomic Aggregation.xlsx', index=False)\n"
   ]
  },
  {
   "cell_type": "code",
   "execution_count": null,
   "id": "7e376439",
   "metadata": {},
   "outputs": [],
   "source": [
    "\n"
   ]
  },
  {
   "cell_type": "code",
   "execution_count": null,
   "id": "4735d8ea",
   "metadata": {},
   "outputs": [],
   "source": [
    "\n"
   ]
  }
 ],
 "metadata": {
  "kernelspec": {
   "display_name": "Python 3 (ipykernel)",
   "language": "python",
   "name": "python3"
  },
  "language_info": {
   "codemirror_mode": {
    "name": "ipython",
    "version": 3
   },
   "file_extension": ".py",
   "mimetype": "text/x-python",
   "name": "python",
   "nbconvert_exporter": "python",
   "pygments_lexer": "ipython3",
   "version": "3.11.5"
  }
 },
 "nbformat": 4,
 "nbformat_minor": 5
}
