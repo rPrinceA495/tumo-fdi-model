{
 "cells": [
  {
   "cell_type": "code",
   "execution_count": 34,
   "id": "d5c607f3",
   "metadata": {},
   "outputs": [],
   "source": [
    "import pandas as pd\n",
    "\n",
    "'''\n",
    "Join with French version with English translation\n",
    "'''\n",
    "# List of file locations\n",
    "files = ['Disease.xlsx', 'Disease Translated.xlsx']\n",
    "\n",
    "# Read the first file\n",
    "df = pd.read_excel(files[0])\n",
    "\n",
    "# Loop over the rest of the files and merge\n",
    "for file in files[1:]:\n",
    "    df_other = pd.read_excel(file)\n",
    "    df = pd.merge(df, df_other, on='TumoID', how='outer')\n",
    "\n",
    "df.head()\n",
    "\n",
    "# Check for missing values in the dataframe (Some found)\n",
    "df.isnull().sum() \n",
    "\n",
    "# # Drop the rows with null values\n",
    "df = df.dropna()\n",
    "\n",
    "df.head()\n",
    "\n",
    "df.to_excel('Student Pathologies.xlsx', index=False)"
   ]
  },
  {
   "cell_type": "code",
   "execution_count": 35,
   "id": "958f1def",
   "metadata": {},
   "outputs": [],
   "source": [
    "import pickle\n",
    "\n",
    "# Load the dictionary from the file\n",
    "with open('keywords.pkl', 'rb') as f:\n",
    "    keywords = pickle.load(f)\n",
    "    \n",
    "# print(keywords)\n",
    "\n",
    "# Create a new column for each category\n",
    "for category, words in keywords.items():\n",
    "    df[category] = df['Noticed'].apply(lambda x: 1 if any(word.lower() in x.lower() for word in words) else 0)\n",
    "\n",
    "\n",
    "# Now you have a DataFrame with additional columns for each category\n",
    "# df.head()\n",
    "df.to_excel('Student Pathologies.xlsx', index=False)"
   ]
  },
  {
   "cell_type": "code",
   "execution_count": 29,
   "id": "d6fdd558",
   "metadata": {},
   "outputs": [],
   "source": [
    "# import nltk\n",
    "# # nltk.download('stopwords')\n",
    "# # nltk.download('punkt')\n",
    "# from nltk.tokenize import word_tokenize\n",
    "# from collections import Counter\n",
    "\n",
    "# # Tokenize the text data and remove stopwords\n",
    "# stop_words = set(stopwords.words('english'))\n",
    "# df['tokens'] = df['Noticed'].apply(lambda x: [word for word in word_tokenize(x.lower()) if word.isalpha() and word not in stop_words] if isinstance(x, str) else [])\n",
    "\n",
    "# # Flatten the list of tokens and count the frequency of each word\n",
    "# all_words = [word for tokens in df['tokens'] for word in tokens]\n",
    "# word_counts = Counter(all_words)\n",
    "\n",
    "# # Convert the counter object to a DataFrame\n",
    "# df_word_counts = pd.DataFrame.from_dict(word_counts, orient='index', columns=['count'])\n",
    "\n",
    "# print(df_word_counts)\n",
    "\n",
    "# # Export word counts\n",
    "# df_word_counts.to_excel('disease_pathology_word_counts.xlsx')"
   ]
  },
  {
   "cell_type": "code",
   "execution_count": null,
   "id": "e3cd36ce",
   "metadata": {},
   "outputs": [],
   "source": []
  }
 ],
 "metadata": {
  "kernelspec": {
   "display_name": "Python 3 (ipykernel)",
   "language": "python",
   "name": "python3"
  },
  "language_info": {
   "codemirror_mode": {
    "name": "ipython",
    "version": 3
   },
   "file_extension": ".py",
   "mimetype": "text/x-python",
   "name": "python",
   "nbconvert_exporter": "python",
   "pygments_lexer": "ipython3",
   "version": "3.11.5"
  }
 },
 "nbformat": 4,
 "nbformat_minor": 5
}
