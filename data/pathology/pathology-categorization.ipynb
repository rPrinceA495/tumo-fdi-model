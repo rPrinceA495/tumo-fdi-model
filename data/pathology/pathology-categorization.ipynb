{
 "cells": [
  {
   "cell_type": "code",
   "execution_count": 10,
   "id": "d5c607f3",
   "metadata": {
    "scrolled": true
   },
   "outputs": [],
   "source": [
    "import pandas as pd\n",
    "\n",
    "# Read the first file\n",
    "df = pd.read_excel('Student Pathologies.xlsx')\n",
    "\n",
    "# Replace NaN values with 0\n",
    "df = df.fillna(0)\n",
    "\n",
    "# Add value for total pathology score\n",
    "df['PathologyScore'] = df['PHDisability'] + df['PHChronicDisease'] + df['PHDevelopmentalCoordination'] + df['MHNeurodevelopmental'] + df['MHSpeechCommuication'] + df['MHEmotional'] + df['MHPsychiatric'] + df['MHFamilyEnvironment'] + df['MHSocialBehavioral'] + df['MHLearningSchool']\n",
    "\n",
    "df.head()\n",
    "\n",
    "# Save the merged DataFrame to a new Excel file\n",
    "df.to_excel('Student Pathology Scores.xlsx', index=False)\n"
   ]
  },
  {
   "cell_type": "code",
   "execution_count": 35,
   "id": "958f1def",
   "metadata": {},
   "outputs": [],
   "source": []
  },
  {
   "cell_type": "code",
   "execution_count": 29,
   "id": "d6fdd558",
   "metadata": {},
   "outputs": [],
   "source": [
    "\n"
   ]
  },
  {
   "cell_type": "code",
   "execution_count": null,
   "id": "e3cd36ce",
   "metadata": {},
   "outputs": [],
   "source": []
  }
 ],
 "metadata": {
  "kernelspec": {
   "display_name": "Python 3 (ipykernel)",
   "language": "python",
   "name": "python3"
  },
  "language_info": {
   "codemirror_mode": {
    "name": "ipython",
    "version": 3
   },
   "file_extension": ".py",
   "mimetype": "text/x-python",
   "name": "python",
   "nbconvert_exporter": "python",
   "pygments_lexer": "ipython3",
   "version": "3.11.5"
  }
 },
 "nbformat": 4,
 "nbformat_minor": 5
}
