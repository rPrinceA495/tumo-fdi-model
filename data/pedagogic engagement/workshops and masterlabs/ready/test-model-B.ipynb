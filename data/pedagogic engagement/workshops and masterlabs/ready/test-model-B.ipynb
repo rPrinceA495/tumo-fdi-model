{
 "cells": [
  {
   "cell_type": "code",
   "execution_count": 4,
   "id": "2c7c3bd4",
   "metadata": {},
   "outputs": [],
   "source": [
    "import pandas as pd\n",
    "\n",
    "# Join dfs containing workshop/masterlab data\n",
    "files = ['self_learning_data.xlsx', 'workshop_masterlab_data.xlsx']\n",
    "\n",
    "# Read the first file\n",
    "df = pd.read_excel(files[0])\n",
    "\n",
    "# Loop over the rest of the files and merge\n",
    "for file in files[1:]:\n",
    "    df_other = pd.read_excel(file)\n",
    "    df = pd.merge(df, df_other, on='TumoID', how='outer')\n",
    "    \n",
    "df.head()\n",
    "\n",
    "# Save the merged DataFrame to a new Excel file\n",
    "df.to_excel('self-learning_workshops_masterlabs_agg.xlsx', index=False)"
   ]
  },
  {
   "cell_type": "code",
   "execution_count": null,
   "id": "e8833cc7",
   "metadata": {},
   "outputs": [],
   "source": []
  }
 ],
 "metadata": {
  "kernelspec": {
   "display_name": "Python 3 (ipykernel)",
   "language": "python",
   "name": "python3"
  },
  "language_info": {
   "codemirror_mode": {
    "name": "ipython",
    "version": 3
   },
   "file_extension": ".py",
   "mimetype": "text/x-python",
   "name": "python",
   "nbconvert_exporter": "python",
   "pygments_lexer": "ipython3",
   "version": "3.11.5"
  }
 },
 "nbformat": 4,
 "nbformat_minor": 5
}
