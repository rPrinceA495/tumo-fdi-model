{
 "cells": [
  {
   "cell_type": "code",
   "execution_count": 17,
   "metadata": {},
   "outputs": [],
   "source": [
    "import pandas as pd\n",
    "import glob\n",
    "\n",
    "# Load datasets\n",
    "# df = pd.read_excel('data.xlsx')\n",
    "# df.head()\n",
    "\n",
    "file_names = glob.glob('data/*.xlsx')  # load sheets from data folder\n",
    "dfs = [pd.read_excel(file) for file in file_names]\n",
    "\n",
    "# Dataframe merging\n",
    "merged_df = dfs[0]  # start with the first dataframe\n",
    "\n",
    "for df in dfs[1:]:  # for each dataframe after the first\n",
    "    merged_df = merged_df.merge(df, on='TumoID', how='outer')  # merge on TumoID\n",
    "\n",
    "merged_df.head()\n",
    "    \n",
    "merged_df.to_excel('data/merged/Merged Data.xlsx', index=False)\n",
    "\n"
   ]
  },
  {
   "cell_type": "code",
   "execution_count": 18,
   "metadata": {},
   "outputs": [],
   "source": [
    "# Data visualization for missing values\n",
    "non_null_counts = merged_df.count(axis=1)\n",
    "\n",
    "frequencies = non_null_counts.value_counts()\n",
    "proportions = non_null_counts.value_counts() / len(merged_df)\n",
    "\n",
    "# frequencies.sort_index().plot(kind='bar')\n",
    "\n",
    "# proportions.sort_index().plot(kind='bar')"
   ]
  },
  {
   "cell_type": "code",
   "execution_count": 21,
   "metadata": {},
   "outputs": [
    {
     "name": "stdout",
     "output_type": "stream",
     "text": [
      "                                 Feature  Percentage of non-null values\n",
      "0                                 TumoID                      99.954761\n",
      "1                         RegularPresent                      99.457136\n",
      "2                         AttendingSince                      99.457136\n",
      "3                        TerminationType                      61.026917\n",
      "4                      TerminationReason                       0.882153\n",
      "5        ContinuousAbsenceSinceLastLogin                      99.524994\n",
      "6                        ApplicationDate                      49.310111\n",
      "7                       RegistrationDate                      49.310111\n",
      "8                                    DOB                      49.310111\n",
      "9                                    Sex                      49.310111\n",
      "10                               Address                      49.310111\n",
      "11                            PostalCode                      49.310111\n",
      "12                                  City                      49.310111\n",
      "13      Etablissement scolaire fréquenté                      49.310111\n",
      "14                        PrioritySchool                       6.785795\n",
      "15                    AccountClosingDate                      20.334766\n",
      "16                            TumoStatus                      49.310111\n",
      "17                          FamilyIncome                      19.339516\n",
      "18                            Disability                       0.000000\n",
      "19                        DisabilityType                       0.000000\n",
      "20     OrientationInformationMeetingDate                      12.169192\n",
      "21      OrientationCollectiveMeetingDate                       7.464375\n",
      "22  OrientationCollectiveMeetingPresence                       7.464375\n",
      "23     OrientationIndividualMeeting1Date                       7.011988\n",
      "24  OrientationIndividualMeeting1Present                       7.011988\n",
      "25     OrientationIndividualMeeting2Date                       6.944130\n",
      "26  OrientationIndividualMeeting2Present                       6.944130\n",
      "27     OrientationIndividualMeeting3Date                       4.704818\n",
      "28  OrientationIndividualMeeting3Present                       4.704818\n",
      "29                       StudentSchedule                      72.449672\n",
      "30                                Status                      99.524994\n",
      "31                                   Age                      99.524994\n",
      "32                     RetentionByMonths                      99.524994\n",
      "33                              PathDate                      27.437231\n",
      "34                      PriorityDistrict                      49.287492\n"
     ]
    }
   ],
   "source": [
    "# Calculate the percentage of non-null values for each column\n",
    "percentage_non_null = merged_df.notnull().mean() * 100\n",
    "\n",
    "# Convert the result to a DataFrame for better visualization\n",
    "percentage_non_null_df = pd.DataFrame({'Feature': percentage_non_null.index, 'Percentage of non-null values': percentage_non_null.values})\n",
    "\n",
    "# Display the result\n",
    "print(percentage_non_null_df)\n",
    "\n",
    "percentage_non_null_df.to_excel('visualizations/Percentage of records in each column.xlsx', index=False)\n"
   ]
  },
  {
   "cell_type": "code",
   "execution_count": null,
   "metadata": {},
   "outputs": [],
   "source": [
    "# Dropout definition/labelling of outcome variable\n",
    "\n",
    "# # Make a deep copy of the dataframe\n",
    "# df_transformed = df.copy(deep = True) \n",
    "\n",
    "# # Check for missing values in the dataframe (None found)\n",
    "# df_transformed.isnull().sum() \n",
    "\n",
    "# # Check the data types of the columns\n",
    "# df_transformed.dtypes\n",
    "\n",
    "# # Replace categorical values in 'Sex' columns to 0s and 1s\n",
    "# df_transformed['Sex'] = df_transformed['Sex'].replace({'F': 0, 'M': 1})\n",
    "\n",
    "# # Replace categorical values in 'Hypertensive' column to 1s and 2s\n",
    "# df_transformed['Hypertensive'] = df_transformed['Hypertensive'].replace({'Normal': 1, 'High': 2})\n",
    "\n",
    "# df_transformed.head()\n",
    "\n",
    "# # Save the transformed dataset\n",
    "# df_transformed.to_csv('transformed_ExamTable.csv', index=False)"
   ]
  }
 ],
 "metadata": {
  "kernelspec": {
   "display_name": "Python 3 (ipykernel)",
   "language": "python",
   "name": "python3"
  },
  "language_info": {
   "codemirror_mode": {
    "name": "ipython",
    "version": 3
   },
   "file_extension": ".py",
   "mimetype": "text/x-python",
   "name": "python",
   "nbconvert_exporter": "python",
   "pygments_lexer": "ipython3",
   "version": "3.11.5"
  }
 },
 "nbformat": 4,
 "nbformat_minor": 2
}
