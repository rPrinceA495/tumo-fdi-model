{
 "cells": [
  {
   "cell_type": "code",
   "execution_count": null,
   "metadata": {},
   "outputs": [],
   "source": [
    "# Load dataset\n",
    "df = pd.read_csv('')\n",
    "df.head()\n",
    "\n",
    "# Make a deep copy of the dataframe\n",
    "df_transformed = df.copy(deep = True) \n",
    "\n",
    "# Check for missing values in the dataframe (None found)\n",
    "df_transformed.isnull().sum() \n",
    "\n",
    "# Check the data types of the columns\n",
    "df_transformed.dtypes\n",
    "\n",
    "# Replace categorical values in 'Sex' columns to 0s and 1s\n",
    "df_transformed['Sex'] = df_transformed['Sex'].replace({'F': 0, 'M': 1})\n",
    "\n",
    "# Replace categorical values in 'Hypertensive' column to 1s and 2s\n",
    "df_transformed['Hypertensive'] = df_transformed['Hypertensive'].replace({'Normal': 1, 'High': 2})\n",
    "\n",
    "df_transformed.head()\n",
    "\n",
    "# Save the transformed dataset\n",
    "df_transformed.to_csv('transformed_ExamTable.csv', index=False)"
   ]
  },
  {
   "cell_type": "code",
   "execution_count": null,
   "metadata": {},
   "outputs": [],
   "source": [
    "# Data merging"
   ]
  },
  {
   "cell_type": "code",
   "execution_count": null,
   "metadata": {},
   "outputs": [],
   "source": [
    "# Data visualization"
   ]
  },
  {
   "cell_type": "code",
   "execution_count": null,
   "metadata": {},
   "outputs": [],
   "source": [
    "# Dropout definition/labelling of outcome variable"
   ]
  }
 ],
 "metadata": {
  "language_info": {
   "name": "python"
  }
 },
 "nbformat": 4,
 "nbformat_minor": 2
}
