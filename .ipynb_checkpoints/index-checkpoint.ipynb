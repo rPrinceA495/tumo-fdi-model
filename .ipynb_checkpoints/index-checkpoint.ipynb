{
 "cells": [
  {
   "cell_type": "code",
   "execution_count": 13,
   "metadata": {},
   "outputs": [],
   "source": [
    "import pandas as pd\n",
    "import glob\n",
    "\n",
    "# Load datasets\n",
    "# df = pd.read_excel('data.xlsx')\n",
    "# df.head()\n",
    "\n",
    "file_names = glob.glob('data/*.xlsx')  # load sheets from data folder\n",
    "dfs = [pd.read_excel(file) for file in file_names]\n",
    "\n",
    "# Dataframe merging\n",
    "merged_df = dfs[0]  # start with the first dataframe\n",
    "\n",
    "for df in dfs[1:]:  # for each dataframe after the first\n",
    "    merged_df = merged_df.merge(df, on='TumoID', how='outer')  # merge on TumoID\n",
    "\n",
    "merged_df.head()\n",
    "    \n",
    "merged_df.to_excel('data/merged/Merged Data.xlsx', index=False)\n",
    "\n"
   ]
  },
  {
   "cell_type": "code",
   "execution_count": 15,
   "metadata": {},
   "outputs": [
    {
     "data": {
      "text/plain": [
       "<Axes: >"
      ]
     },
     "execution_count": 15,
     "metadata": {},
     "output_type": "execute_result"
    },
    {
     "data": {
      "image/png": "[encoded data removed]",
      "text/plain": [
       "<Figure size 640x480 with 1 Axes>"
      ]
     },
     "metadata": {},
     "output_type": "display_data"
    }
   ],
   "source": [
    "# Data visualization for missing values\n",
    "non_null_counts = merged_df.count(axis=1)\n",
    "\n",
    "frequencies = non_null_counts.value_counts()\n",
    "proportions = non_null_counts.value_counts() / len(merged_df)\n",
    "\n",
    "frequencies.sort_index().plot(kind='bar')\n",
    "\n",
    "# proportions.sort_index().plot(kind='bar')\n",
    "\n",
    "\n",
    "\n"
   ]
  },
  {
   "cell_type": "code",
   "execution_count": null,
   "metadata": {},
   "outputs": [],
   "source": [
    "# # Make a deep copy of the dataframe\n",
    "# df_transformed = df.copy(deep = True) \n",
    "\n",
    "# # Check for missing values in the dataframe (None found)\n",
    "# df_transformed.isnull().sum() \n",
    "\n",
    "# # Check the data types of the columns\n",
    "# df_transformed.dtypes\n",
    "\n",
    "# # Replace categorical values in 'Sex' columns to 0s and 1s\n",
    "# df_transformed['Sex'] = df_transformed['Sex'].replace({'F': 0, 'M': 1})\n",
    "\n",
    "# # Replace categorical values in 'Hypertensive' column to 1s and 2s\n",
    "# df_transformed['Hypertensive'] = df_transformed['Hypertensive'].replace({'Normal': 1, 'High': 2})\n",
    "\n",
    "# df_transformed.head()\n",
    "\n",
    "# # Save the transformed dataset\n",
    "# df_transformed.to_csv('transformed_ExamTable.csv', index=False)"
   ]
  },
  {
   "cell_type": "code",
   "execution_count": null,
   "metadata": {},
   "outputs": [],
   "source": [
    "# Dropout definition/labelling of outcome variable"
   ]
  }
 ],
 "metadata": {
  "kernelspec": {
   "display_name": "Python 3 (ipykernel)",
   "language": "python",
   "name": "python3"
  },
  "language_info": {
   "codemirror_mode": {
    "name": "ipython",
    "version": 3
   },
   "file_extension": ".py",
   "mimetype": "text/x-python",
   "name": "python",
   "nbconvert_exporter": "python",
   "pygments_lexer": "ipython3",
   "version": "3.11.5"
  }
 },
 "nbformat": 4,
 "nbformat_minor": 2
}
